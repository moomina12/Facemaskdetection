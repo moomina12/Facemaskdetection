{
 "cells": [
  {
   "cell_type": "code",
   "execution_count": 1,
   "id": "b6ef760b-4644-48af-8e9a-001565d73f32",
   "metadata": {},
   "outputs": [],
   "source": [
    "# import the necessary packages\n",
    "from tensorflow.keras.applications.mobilenet_v2 import preprocess_input\n",
    "from tensorflow.keras.preprocessing.image import img_to_array\n",
    "from tensorflow.keras.layers import TFSMLayer\n",
    "from tensorflow.keras.models import load_model\n",
    "from tensorflow.keras.saving import load_model\n",
    "from imutils.video import VideoStream\n",
    "import numpy as np\n",
    "import imutils\n",
    "import time\n",
    "import cv2\n",
    "import os\n",
    "import tensorflow"
   ]
  },
  {
   "cell_type": "code",
   "execution_count": 2,
   "id": "8dc1e5f7-5240-4dfc-9d15-9c7602812f59",
   "metadata": {},
   "outputs": [],
   "source": [
    "from tensorflow.keras.layers import TFSMLayer\n",
    "model = TFSMLayer(r\"C:\\Users\\HP\\mask_detector_model\", call_endpoint='serve')"
   ]
  },
  {
   "cell_type": "code",
   "execution_count": 3,
   "id": "da480d69-bd2a-4c7f-96c7-6d129e77ffcf",
   "metadata": {},
   "outputs": [
    {
     "data": {
      "text/plain": [
       "<TFSMLayer name=tfsm_layer, built=True>"
      ]
     },
     "execution_count": 3,
     "metadata": {},
     "output_type": "execute_result"
    }
   ],
   "source": [
    "model"
   ]
  },
  {
   "cell_type": "code",
   "execution_count": null,
   "id": "537b8e57-b656-4af5-99a6-6e94eb5cb171",
   "metadata": {},
   "outputs": [
    {
     "name": "stdout",
     "output_type": "stream",
     "text": [
      "[INFO] starting video stream...\n"
     ]
    }
   ],
   "source": [
    "import cv2\n",
    "import numpy as np\n",
    "import imutils\n",
    "from imutils.video import VideoStream\n",
    "from tensorflow.keras.applications.mobilenet_v2 import preprocess_input\n",
    "from tensorflow.keras.preprocessing.image import img_to_array\n",
    "from tensorflow.keras.layers import TFSMLayer\n",
    "\n",
    "# Load the SavedModel using TFSMLayer\n",
    "saved_model_path = r\"C:\\Users\\HP\\mask_detector_model\"\n",
    "model = TFSMLayer(saved_model_path, call_endpoint='serve')\n",
    "\n",
    "# Define constants\n",
    "CONFIDENCE_THRESHOLD = 0.5\n",
    "IMG_SIZE = 224\n",
    "\n",
    "# Initialize the video stream\n",
    "print(\"[INFO] starting video stream...\")\n",
    "vs = VideoStream(src=0).start()\n",
    "time.sleep(2.0)\n",
    "\n",
    "# Function to detect faces and mask status\n",
    "def detect_and_predict_mask(frame):\n",
    "    h, w = frame.shape[:2]\n",
    "    blob = cv2.dnn.blobFromImage(frame, 1.0, (224, 224), (104.0, 177.0, 123.0))\n",
    "\n",
    "    faces = []\n",
    "    locs = []\n",
    "    preds = []\n",
    "\n",
    "    # Assuming the model is detecting faces directly\n",
    "    detections = model(blob)  # Run the model inference\n",
    "    \n",
    "    for i in range(detections.shape[2]):\n",
    "        confidence = detections[0, 0, i, 2]\n",
    "\n",
    "        if confidence > CONFIDENCE_THRESHOLD:\n",
    "            box = detections[0, 0, i, 3:7] * np.array([w, h, w, h])\n",
    "            (startX, startY, endX, endY) = box.astype(\"int\")\n",
    "\n",
    "            startX, startY = max(0, startX), max(0, startY)\n",
    "            endX, endY = min(w - 1, endX), min(h - 1, endY)\n",
    "\n",
    "            face = frame[startY:endY, startX:endX]\n",
    "            if face.size == 0:\n",
    "                continue\n",
    "            \n",
    "            # Resize the face to the required size\n",
    "            face = cv2.resize(face, (224, 224))\n",
    "            face = img_to_array(face)\n",
    "            face = preprocess_input(face)\n",
    "            face = np.expand_dims(face, axis=0)  # Ensure the shape is (1, 224, 224, 3)\n",
    "\n",
    "            faces.append(face)\n",
    "            locs.append((startX, startY, endX, endY))\n",
    "\n",
    "    if len(faces) > 0:\n",
    "        # Stack faces and pass them to the model\n",
    "        faces = np.vstack(faces)\n",
    "        preds = model(faces)\n",
    "\n",
    "    return locs, preds\n",
    "# Main loop for video processing\n",
    "while True:\n",
    "    frame = vs.read()\n",
    "    frame = imutils.resize(frame, width=400)\n",
    "    \n",
    "    # Preprocess the frame to match the model's expected input\n",
    "    face = cv2.resize(frame, (224, 224))\n",
    "    face = img_to_array(face)\n",
    "    face = preprocess_input(face)\n",
    "    face = np.expand_dims(face, axis=0)  # Shape becomes (1, 224, 224, 3)\n",
    "    \n",
    "    # Predict using the model\n",
    "    preds = model(face)\n",
    "    \n",
    "    # Extract the probabilities for each class\n",
    "    mask_prob, without_mask_prob = preds[0]\n",
    "    \n",
    "    # Determine the class label and color for the bounding box\n",
    "    label = \"Mask\" if mask_prob > without_mask_prob else \"No Mask\"\n",
    "    color = (0, 255, 0) if label == \"Mask\" else (0, 0, 255)\n",
    "    \n",
    "    # Display the label on the frame\n",
    "    cv2.putText(frame, f\"{label}: {max(mask_prob, without_mask_prob) * 100:.2f}%\", \n",
    "                (10, 30), cv2.FONT_HERSHEY_SIMPLEX, 0.85, color, 2)\n",
    "    \n",
    "    # Show the output frame\n",
    "    cv2.imshow(\"Frame\", frame)\n",
    "    \n",
    "    # Break the loop on 'q' key press\n",
    "    if cv2.waitKey(1) & 0xFF == ord('q'):\n",
    "        break\n",
    "\n",
    "# Cleanup\n",
    "cv2.destroyAllWindows()\n",
    "vs.stop()\n"
   ]
  },
  {
   "cell_type": "code",
   "execution_count": null,
   "id": "b7ea5426-1166-4540-99b2-aa68dafc3f39",
   "metadata": {},
   "outputs": [],
   "source": []
  }
 ],
 "metadata": {
  "kernelspec": {
   "display_name": "Python 3 (ipykernel)",
   "language": "python",
   "name": "python3"
  },
  "language_info": {
   "codemirror_mode": {
    "name": "ipython",
    "version": 3
   },
   "file_extension": ".py",
   "mimetype": "text/x-python",
   "name": "python",
   "nbconvert_exporter": "python",
   "pygments_lexer": "ipython3",
   "version": "3.11.5"
  }
 },
 "nbformat": 4,
 "nbformat_minor": 5
}
